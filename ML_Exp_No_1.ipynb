{
  "nbformat": 4,
  "nbformat_minor": 0,
  "metadata": {
    "colab": {
      "name": "ML_Exp No 1.ipynb",
      "provenance": [],
      "authorship_tag": "ABX9TyNDrGY0P30YjfkP2ydxqYtg",
      "include_colab_link": true
    },
    "kernelspec": {
      "name": "python3",
      "display_name": "Python 3"
    },
    "language_info": {
      "name": "python"
    }
  },
  "cells": [
    {
      "cell_type": "markdown",
      "metadata": {
        "id": "view-in-github",
        "colab_type": "text"
      },
      "source": [
        "<a href=\"https://colab.research.google.com/github/altajvirani/ML-Lab/blob/master/ML_Exp_No_1.ipynb\" target=\"_parent\"><img src=\"https://colab.research.google.com/assets/colab-badge.svg\" alt=\"Open In Colab\"/></a>"
      ]
    },
    {
      "cell_type": "code",
      "execution_count": null,
      "metadata": {
        "colab": {
          "base_uri": "https://localhost:8080/",
          "height": 974
        },
        "id": "mr_fqr0CUOUb",
        "outputId": "41871b0b-7c3e-4d39-de31-35da2a0a12e9"
      },
      "outputs": [
        {
          "output_type": "stream",
          "name": "stderr",
          "text": [
            "/usr/local/lib/python3.7/dist-packages/sklearn/utils/deprecation.py:87: FutureWarning: Function load_boston is deprecated; `load_boston` is deprecated in 1.0 and will be removed in 1.2.\n",
            "\n",
            "    The Boston housing prices dataset has an ethical problem. You can refer to\n",
            "    the documentation of this function for further details.\n",
            "\n",
            "    The scikit-learn maintainers therefore strongly discourage the use of this\n",
            "    dataset unless the purpose of the code is to study and educate about\n",
            "    ethical issues in data science and machine learning.\n",
            "\n",
            "    In this special case, you can fetch the dataset from the original\n",
            "    source::\n",
            "\n",
            "        import pandas as pd\n",
            "        import numpy as np\n",
            "\n",
            "\n",
            "        data_url = \"http://lib.stat.cmu.edu/datasets/boston\"\n",
            "        raw_df = pd.read_csv(data_url, sep=\"\\s+\", skiprows=22, header=None)\n",
            "        data = np.hstack([raw_df.values[::2, :], raw_df.values[1::2, :2]])\n",
            "        target = raw_df.values[1::2, 2]\n",
            "\n",
            "    Alternative datasets include the California housing dataset (i.e.\n",
            "    :func:`~sklearn.datasets.fetch_california_housing`) and the Ames housing\n",
            "    dataset. You can load the datasets as follows::\n",
            "\n",
            "        from sklearn.datasets import fetch_california_housing\n",
            "        housing = fetch_california_housing()\n",
            "\n",
            "    for the California housing dataset and::\n",
            "\n",
            "        from sklearn.datasets import fetch_openml\n",
            "        housing = fetch_openml(name=\"house_prices\", as_frame=True)\n",
            "\n",
            "    for the Ames housing dataset.\n",
            "    \n",
            "  warnings.warn(msg, category=FutureWarning)\n"
          ]
        },
        {
          "output_type": "display_data",
          "data": {
            "text/plain": [
              "<Figure size 432x288 with 1 Axes>"
            ],
            "image/png": "[encoded data removed]"
          },
          "metadata": {
            "needs_background": "light"
          }
        },
        {
          "output_type": "stream",
          "name": "stdout",
          "text": [
            "Mean Square Error :  5.056242641666292e-27\n",
            "Mean Absolute Error :  5.935121675172602e-14\n"
          ]
        }
      ],
      "source": [
        "import pandas as pd\n",
        "import numpy as np\n",
        "from matplotlib import pyplot as plt\n",
        "from sklearn.model_selection import train_test_split\n",
        "from sklearn.datasets import load_boston\n",
        "from sklearn.ensemble import RandomForestRegressor\n",
        "from sklearn.linear_model import LinearRegression\n",
        "from sklearn.model_selection import train_test_split\n",
        "from sklearn.metrics import mean_squared_error, mean_absolute_error\n",
        "\n",
        "boston = load_boston()\n",
        "\n",
        "df = pd.DataFrame(boston.data, columns = boston.feature_names)\n",
        "df['target'] = boston.target\n",
        "dfc = df.loc[:, ~df.columns.isin(['CRIM', 'ZN'])]\n",
        "dfc.sample(4)\n",
        "\n",
        "# x = boston.data\n",
        "y = boston.target\n",
        " \n",
        "xtrain, xtest, ytrain, ytest = train_test_split(dfc, y, test_size =0.2,\n",
        "                                                    random_state = 0)\n",
        "\n",
        "regressor = LinearRegression()\n",
        "regressor.fit(xtrain, ytrain)\n",
        "y_pred = regressor.predict(xtest)\n",
        "plt.scatter(ytest, y_pred, c = 'green')\n",
        "plt.xlabel(\"Price: in $1000's\")\n",
        "plt.ylabel(\"Predicted value\")\n",
        "plt.title(\"True value vs predicted value : Linear Regression\")\n",
        "plt.show()\n",
        "\n",
        "mse = mean_squared_error(ytest, y_pred)\n",
        "mae = mean_absolute_error(ytest,y_pred)\n",
        "print(\"Mean Square Error : \", mse)\n",
        "print(\"Mean Absolute Error : \", mae)"
      ]
    }
  ]
}